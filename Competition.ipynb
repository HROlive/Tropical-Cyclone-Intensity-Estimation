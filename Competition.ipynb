{
 "cells": [
  {
   "cell_type": "markdown",
   "metadata": {},
   "source": [
    "&emsp;&emsp;&emsp;&emsp;&emsp;\n",
    "&emsp;&emsp;&emsp;&emsp;&emsp;\n",
    "&emsp;&emsp;&emsp;&emsp;&emsp;\n",
    "&emsp;&emsp;&emsp;&emsp;&emsp;\n",
    "&emsp;&emsp;&emsp;&emsp;&emsp;\n",
    "&emsp;&emsp;&ensp;\n",
    "[Home Page](../Start_Here.ipynb)\n",
    "\n",
    "\n",
    "[Previous Notebook](Manipulation_of_Image_Data_and_Category_Determination_using_Text_Data.ipynb)\n",
    "&emsp;&emsp;&emsp;&emsp;&emsp;\n",
    "&emsp;&emsp;&emsp;&emsp;&emsp;\n",
    "&emsp;&emsp;&emsp;&emsp;&emsp;\n",
    "&emsp;&emsp;&emsp;&emsp;&emsp;\n",
    "[1](The_Problem_Statement.ipynb)\n",
    "[2](Approach_to_the_Problem_&_Inspecting_and_Cleaning_the_Required_Data.ipynb)\n",
    "[3](Manipulation_of_Image_Data_and_Category_Determination_using_Text_Data.ipynb)\n",
    "[4](Countering_Data_Imbalance.ipynb)\n",
    "[5]\n",
    "&emsp;&emsp;&emsp;&emsp;&emsp;\n",
    "&emsp;&emsp;&emsp;&emsp;&emsp;\n",
    "&emsp;&emsp;&emsp;&emsp;&emsp;\n",
    "&emsp;&emsp;&emsp;&emsp;&emsp;\n"
   ]
  },
  {
   "cell_type": "markdown",
   "metadata": {},
   "source": [
    "# Competition :\n",
    "\n",
    "In this exercise participant need to tune and work on improving overall acuracy of our model. \n",
    "\n",
    "To help you get started by pointing out some obvious ways in which you can make the model more efficient. \n",
    "\n",
    "- Epochs  \n",
    "- Batch Size \n",
    "- Optimizers : We have used SGD as a optimizer. Participant can try applying other optimizer and test to obtain quick convergence.\n",
    "- Data Augmentation : Remember, we mentioned we have an imbalanced dataset. You could try differnet augmentation techniques for the minority classes.\n",
    "- Model : If you have exploited all the bbove methods to improve your model, you can change the model by adding more Layers to it and see if that improves that accuracy.\n",
    "\n",
    "Note, before you start tweaking and training your model ,it would be worthwhile to refer to these to see how they affect your model : \n",
    "\n",
    "[Epochs impact on Overfitting](https://datascience.stackexchange.com/questions/27561/can-the-number-of-epochs-influence-overfitting ) \n",
    "\n",
    "\n",
    "[Effect of Batch Size on Training Dynamics](https://medium.com/mini-distill/effect-of-batch-size-on-training-dynamics-21c14f7a716e)\n",
    "\n",
    "[Introduction to Optimizers](https://algorithmia.com/blog/introduction-to-optimizers)"
   ]
  },
  {
   "cell_type": "markdown",
   "metadata": {},
   "source": [
    "# Training the Model with Data Augmentation : \n",
    "\n",
    "\n",
    "We created a new function called `augmentation(name,category,filenames,labels,i)` and here you can add more samples to Category which have imbalanced data.  "
   ]
  },
  {
   "cell_type": "code",
   "execution_count": 1,
   "metadata": {},
   "outputs": [],
   "source": [
    "import sys\n",
    "sys.path.append('/workspace/python/source_code')\n",
    "\n",
    "from utils import * \n",
    "import os\n",
    "os.environ[\"CUDA_VISIBLE_DEVICES\"]=\"0\"\n",
    "\n",
    "def augmentation(name,category,filenames,labels,i):\n",
    "    # Important Constants\n",
    "    file_path = \"Dataset/Aug/\"\n",
    "    images = []\n",
    "    (h, w) = (232,232)\n",
    "    center = (w / 2, h / 2)\n",
    "    angle90 = 90\n",
    "    angle180 = 180\n",
    "    angle270 = 270\n",
    "    scale = 1.0\n",
    "    img = load_image(name , interpolation = cv2.INTER_LINEAR)\n",
    "    \n",
    "    ## ~~ Add Augmentations here  ~~\n",
    "    if category == 0 :\n",
    "        images.append(cv2.flip(img,0))\n",
    "    elif category == 1 :\n",
    "        pass\n",
    "    elif category == 2 :\n",
    "        pass\n",
    "    elif category == 3 :\n",
    "        pass\n",
    "    elif category == 4 :\n",
    "        pass\n",
    "    elif category == 5 :\n",
    "        pass\n",
    "    elif category == 6 :\n",
    "        pass\n",
    "    elif category == 7 :\n",
    "        images.append(cv2.flip(img,0))\n",
    "        \n",
    "    ## ~~ Augmentation ends here ~~\n",
    "    for j in range(len(images)):\n",
    "        cv2.imwrite(file_path+str(i+j)+'.jpeg',images[j])\n",
    "        filenames.append(file_path+str(i+j)+'.jpeg')\n",
    "        labels.append(category)\n",
    "    i = i + len(images)\n",
    "    return i"
   ]
  },
  {
   "cell_type": "markdown",
   "metadata": {},
   "source": [
    "##### We pass this function to our `load_dataset()` function to generate these augmentations. \n",
    "\n",
    "Kindly wait for a couple of minutes while it takes to augment the images."
   ]
  },
  {
   "cell_type": "code",
   "execution_count": 2,
   "metadata": {
    "scrolled": true
   },
   "outputs": [
    {
     "name": "stdout",
     "output_type": "stream",
     "text": [
      "................................\n",
      "28574\n"
     ]
    }
   ],
   "source": [
    "filenames,labels = load_dataset(augment_fn = augmentation)"
   ]
  },
  {
   "cell_type": "code",
   "execution_count": 3,
   "metadata": {},
   "outputs": [
    {
     "name": "stdout",
     "output_type": "stream",
     "text": [
      "[357, 357, 357, 357, 357, 357, 357, 357]\n",
      "Counter({2: 7923, 3: 5326, 1: 3790, 4: 2921, 5: 2323, 6: 2165, 7: 739, 0: 531})\n"
     ]
    }
   ],
   "source": [
    "# Set the Size of the Validation set\n",
    "val_filenames , val_labels = make_test_set(filenames,labels,val=0.1)"
   ]
  },
  {
   "cell_type": "code",
   "execution_count": 4,
   "metadata": {},
   "outputs": [],
   "source": [
    "#Make train test set \n",
    "test = 0.1\n",
    "from sklearn.model_selection import train_test_split\n",
    "x_train, x_test, y_train, y_test = train_test_split(filenames, labels, test_size=test, random_state=1)"
   ]
  },
  {
   "cell_type": "code",
   "execution_count": 5,
   "metadata": {},
   "outputs": [],
   "source": [
    "import tensorflow as tf\n",
    "y_train = tf.one_hot(y_train,depth=8)\n",
    "y_test = tf.one_hot(y_test,depth=8)\n",
    "val_labels = tf.one_hot(val_labels,depth=8)"
   ]
  },
  {
   "cell_type": "code",
   "execution_count": 6,
   "metadata": {},
   "outputs": [],
   "source": [
    "# Make Dataset compatible with Tensorflow Data Pipelining.\n",
    "\n",
    "# ~~ Change the batch Size here ~~\n",
    "batch_size = 64\n",
    "# ~~ Change the batch Size here ~~\n",
    "\n",
    "train,test,val = make_dataset((x_train,y_train,batch_size),(x_test,y_test,32),(val_filenames,val_labels,32))"
   ]
  },
  {
   "cell_type": "markdown",
   "metadata": {},
   "source": [
    "# Model Architecture :\n",
    "\n"
   ]
  },
  {
   "cell_type": "code",
   "execution_count": 7,
   "metadata": {},
   "outputs": [
    {
     "name": "stdout",
     "output_type": "stream",
     "text": [
      "Model: \"sequential\"\n",
      "_________________________________________________________________\n",
      "Layer (type)                 Output Shape              Param #   \n",
      "=================================================================\n",
      "conv2d (Conv2D)              (None, 75, 75, 64)        19264     \n",
      "_________________________________________________________________\n",
      "max_pooling2d (MaxPooling2D) (None, 37, 37, 64)        0         \n",
      "_________________________________________________________________\n",
      "conv2d_1 (Conv2D)            (None, 33, 33, 256)       409856    \n",
      "_________________________________________________________________\n",
      "max_pooling2d_1 (MaxPooling2 (None, 16, 16, 256)       0         \n",
      "_________________________________________________________________\n",
      "conv2d_2 (Conv2D)            (None, 16, 16, 288)       663840    \n",
      "_________________________________________________________________\n",
      "max_pooling2d_2 (MaxPooling2 (None, 15, 15, 288)       0         \n",
      "_________________________________________________________________\n",
      "conv2d_3 (Conv2D)            (None, 15, 15, 272)       705296    \n",
      "_________________________________________________________________\n",
      "conv2d_4 (Conv2D)            (None, 13, 13, 256)       626944    \n",
      "_________________________________________________________________\n",
      "max_pooling2d_3 (MaxPooling2 (None, 6, 6, 256)         0         \n",
      "_________________________________________________________________\n",
      "dropout (Dropout)            (None, 6, 6, 256)         0         \n",
      "_________________________________________________________________\n",
      "flatten (Flatten)            (None, 9216)              0         \n",
      "_________________________________________________________________\n",
      "dense (Dense)                (None, 3584)              33033728  \n",
      "_________________________________________________________________\n",
      "dense_1 (Dense)              (None, 4096)              14684160  \n",
      "_________________________________________________________________\n",
      "dense_2 (Dense)              (None, 2048)              8390656   \n",
      "_________________________________________________________________\n",
      "dense_3 (Dense)              (None, 1024)              2098176   \n",
      "_________________________________________________________________\n",
      "dense_4 (Dense)              (None, 8)                 8200      \n",
      "=================================================================\n",
      "Total params: 60,640,120\n",
      "Trainable params: 60,640,120\n",
      "Non-trainable params: 0\n",
      "_________________________________________________________________\n"
     ]
    }
   ],
   "source": [
    "import numpy as np\n",
    "tf.random.set_seed(1337)\n",
    "\n",
    "import tensorflow.keras\n",
    "from tensorflow.keras.models import Sequential\n",
    "from tensorflow.keras.layers import Dense, Conv2D, Flatten ,Dropout, MaxPooling2D\n",
    "from tensorflow.keras import backend as K \n",
    "\n",
    "#Reset Graphs and Create Sequential model\n",
    "\n",
    "K.clear_session()\n",
    "model = Sequential()\n",
    "\n",
    "## ~~ Change Model or Parameters Here\n",
    "#Convolution Layers\n",
    "\n",
    "model.add(Conv2D(64, kernel_size=10,strides=3, activation='relu', input_shape=(232,232,3)))\n",
    "model.add(MaxPooling2D(pool_size=(3, 3),strides=2))\n",
    "model.add(Conv2D(256, kernel_size=5,strides=1,activation='relu'))\n",
    "model.add(MaxPooling2D(pool_size=(3, 3),strides=2))\n",
    "model.add(Conv2D(288, kernel_size=3,strides=1,padding='same',activation='relu'))\n",
    "model.add(MaxPooling2D(pool_size=(2, 2),strides=1))\n",
    "model.add(Conv2D(272, kernel_size=3,strides=1,padding='same',activation='relu'))\n",
    "model.add(Conv2D(256, kernel_size=3,strides=1,activation='relu'))\n",
    "model.add(MaxPooling2D(pool_size=(3, 3),strides=2))\n",
    "model.add(Dropout(0.5))\n",
    "model.add(Flatten())\n",
    "\n",
    "#Linear Layers \n",
    "\n",
    "model.add(Dense(3584,activation='relu'))\n",
    "model.add(Dense(4096,activation='relu'))\n",
    "model.add(Dense(2048,activation='relu'))\n",
    "model.add(Dense(1024,activation='relu'))\n",
    "model.add(Dense(8, activation='softmax'))\n",
    "\n",
    "\n",
    "## ~~ Change Model or Parameters Here\n",
    "\n",
    "# Print Model Summary\n",
    "\n",
    "model.summary()"
   ]
  },
  {
   "cell_type": "markdown",
   "metadata": {},
   "source": [
    "Data augmentation; \n",
    "batch_size = 64; \n",
    "epochs = 30; \n",
    "Optimizer = tensorflow.keras.optimizers.SGD(lr=LR, decay=1e-6, momentum=0.9) with LR=0.01*batch_size/256 ; \n",
    "model weights initialized using tf.keras.initializers.he_normal(seed=12345);\n",
    "adding L2 regularization to the Dense layers using K_REG = tf.keras.regularizers.l2(BETA) with BETA=0.001 (small)  and callbacks:\n",
    "1) early_stop = tensorflow.keras.callbacks.EarlyStopping(monitor='val_loss', min_delta=1e-4, patience=10, mode='auto', restore_best_weights=True)\n",
    "2)  rdlr = tensorflow.keras.callbacks.ReduceLROnPlateau(patience=5, factor=0.5, min_lr=1e-6, monitor='val_loss', verbose=0)\n",
    "3) checkpointer= tensorflow.keras.callbacks.ModelCheckpoint(filepath=\"cyc_pred_comp_6.h5\", verbose=1, save_best_only=True)"
   ]
  },
  {
   "cell_type": "code",
   "execution_count": 8,
   "metadata": {},
   "outputs": [
    {
     "name": "stdout",
     "output_type": "stream",
     "text": [
      "Epoch 1/40\n",
      "362/362 [==============================] - 37s 90ms/step - loss: 1.6280 - accuracy: 0.3536 - top2_acc: 0.5944 - val_loss: 1.3487 - val_accuracy: 0.5067 - val_top2_acc: 0.7118\n",
      "\n",
      "Epoch 00001: val_loss improved from inf to 1.34870, saving model to cyc_pred_earlystop_redplat_check.h5\n",
      "Epoch 2/40\n",
      "362/362 [==============================] - 16s 45ms/step - loss: 0.9840 - accuracy: 0.6111 - top2_acc: 0.8292 - val_loss: 0.6362 - val_accuracy: 0.7605 - val_top2_acc: 0.9146\n",
      "\n",
      "Epoch 00002: val_loss improved from 1.34870 to 0.63621, saving model to cyc_pred_earlystop_redplat_check.h5\n",
      "Epoch 3/40\n",
      "362/362 [==============================] - 16s 45ms/step - loss: 0.5455 - accuracy: 0.7937 - top2_acc: 0.9376 - val_loss: 0.3588 - val_accuracy: 0.8746 - val_top2_acc: 0.9636\n",
      "\n",
      "Epoch 00003: val_loss improved from 0.63621 to 0.35883, saving model to cyc_pred_earlystop_redplat_check.h5\n",
      "Epoch 4/40\n",
      "362/362 [==============================] - 16s 45ms/step - loss: 0.2956 - accuracy: 0.8923 - top2_acc: 0.9773 - val_loss: 0.3086 - val_accuracy: 0.8876 - val_top2_acc: 0.9769\n",
      "\n",
      "Epoch 00004: val_loss improved from 0.35883 to 0.30856, saving model to cyc_pred_earlystop_redplat_check.h5\n",
      "Epoch 5/40\n",
      "362/362 [==============================] - 16s 45ms/step - loss: 0.1802 - accuracy: 0.9345 - top2_acc: 0.9899 - val_loss: 0.1441 - val_accuracy: 0.9499 - val_top2_acc: 0.9937\n",
      "\n",
      "Epoch 00005: val_loss improved from 0.30856 to 0.14411, saving model to cyc_pred_earlystop_redplat_check.h5\n",
      "Epoch 6/40\n",
      "362/362 [==============================] - 17s 45ms/step - loss: 0.1299 - accuracy: 0.9541 - top2_acc: 0.9961 - val_loss: 0.1446 - val_accuracy: 0.9510 - val_top2_acc: 0.9944\n",
      "\n",
      "Epoch 00006: val_loss did not improve from 0.14411\n",
      "Epoch 7/40\n",
      "362/362 [==============================] - 16s 45ms/step - loss: 0.1004 - accuracy: 0.9654 - top2_acc: 0.9970 - val_loss: 0.1005 - val_accuracy: 0.9699 - val_top2_acc: 0.9958\n",
      "\n",
      "Epoch 00007: val_loss improved from 0.14411 to 0.10054, saving model to cyc_pred_earlystop_redplat_check.h5\n",
      "Epoch 8/40\n",
      "362/362 [==============================] - 17s 46ms/step - loss: 0.0782 - accuracy: 0.9736 - top2_acc: 0.9977 - val_loss: 0.1303 - val_accuracy: 0.9566 - val_top2_acc: 0.9919\n",
      "\n",
      "Epoch 00008: val_loss did not improve from 0.10054\n",
      "Epoch 9/40\n",
      "362/362 [==============================] - 16s 45ms/step - loss: 0.0882 - accuracy: 0.9712 - top2_acc: 0.9978 - val_loss: 0.0834 - val_accuracy: 0.9702 - val_top2_acc: 0.9958\n",
      "\n",
      "Epoch 00009: val_loss improved from 0.10054 to 0.08339, saving model to cyc_pred_earlystop_redplat_check.h5\n",
      "Epoch 10/40\n",
      "362/362 [==============================] - 16s 45ms/step - loss: 0.0660 - accuracy: 0.9771 - top2_acc: 0.9984 - val_loss: 0.1079 - val_accuracy: 0.9632 - val_top2_acc: 0.9965\n",
      "\n",
      "Epoch 00010: val_loss did not improve from 0.08339\n",
      "Epoch 11/40\n",
      "362/362 [==============================] - 16s 45ms/step - loss: 0.0659 - accuracy: 0.9773 - top2_acc: 0.9991 - val_loss: 0.1199 - val_accuracy: 0.9692 - val_top2_acc: 0.9933\n",
      "\n",
      "Epoch 00011: val_loss did not improve from 0.08339\n",
      "Epoch 12/40\n",
      "362/362 [==============================] - 16s 45ms/step - loss: 0.0566 - accuracy: 0.9808 - top2_acc: 0.9989 - val_loss: 0.0976 - val_accuracy: 0.9702 - val_top2_acc: 0.9965\n",
      "\n",
      "Epoch 00012: val_loss did not improve from 0.08339\n",
      "Epoch 13/40\n",
      "362/362 [==============================] - 17s 45ms/step - loss: 0.0470 - accuracy: 0.9838 - top2_acc: 0.9995 - val_loss: 0.1154 - val_accuracy: 0.9625 - val_top2_acc: 0.9972\n",
      "\n",
      "Epoch 00013: val_loss did not improve from 0.08339\n",
      "Epoch 14/40\n",
      "362/362 [==============================] - 16s 45ms/step - loss: 0.0544 - accuracy: 0.9827 - top2_acc: 0.9991 - val_loss: 0.1115 - val_accuracy: 0.9692 - val_top2_acc: 0.9954\n",
      "\n",
      "Epoch 00014: val_loss did not improve from 0.08339\n",
      "Epoch 15/40\n",
      "362/362 [==============================] - 17s 46ms/step - loss: 0.0297 - accuracy: 0.9899 - top2_acc: 0.9994 - val_loss: 0.0831 - val_accuracy: 0.9755 - val_top2_acc: 0.9989\n",
      "\n",
      "Epoch 00015: val_loss improved from 0.08339 to 0.08312, saving model to cyc_pred_earlystop_redplat_check.h5\n",
      "Epoch 16/40\n",
      "362/362 [==============================] - 16s 45ms/step - loss: 0.0207 - accuracy: 0.9919 - top2_acc: 0.9998 - val_loss: 0.0845 - val_accuracy: 0.9748 - val_top2_acc: 0.9975\n",
      "\n",
      "Epoch 00016: val_loss did not improve from 0.08312\n",
      "Epoch 17/40\n",
      "362/362 [==============================] - 16s 45ms/step - loss: 0.0194 - accuracy: 0.9931 - top2_acc: 0.9997 - val_loss: 0.0793 - val_accuracy: 0.9744 - val_top2_acc: 0.9972\n",
      "\n",
      "Epoch 00017: val_loss improved from 0.08312 to 0.07934, saving model to cyc_pred_earlystop_redplat_check.h5\n",
      "Epoch 18/40\n",
      "362/362 [==============================] - 17s 45ms/step - loss: 0.0213 - accuracy: 0.9925 - top2_acc: 0.9999 - val_loss: 0.0835 - val_accuracy: 0.9755 - val_top2_acc: 0.9972\n",
      "\n",
      "Epoch 00018: val_loss did not improve from 0.07934\n",
      "Epoch 19/40\n",
      "362/362 [==============================] - 16s 45ms/step - loss: 0.0208 - accuracy: 0.9931 - top2_acc: 1.0000 - val_loss: 0.1020 - val_accuracy: 0.9685 - val_top2_acc: 0.9982\n",
      "\n",
      "Epoch 00019: val_loss did not improve from 0.07934\n",
      "Epoch 20/40\n",
      "362/362 [==============================] - 17s 46ms/step - loss: 0.0223 - accuracy: 0.9917 - top2_acc: 0.9998 - val_loss: 0.0667 - val_accuracy: 0.9811 - val_top2_acc: 0.9986\n",
      "\n",
      "Epoch 00020: val_loss improved from 0.07934 to 0.06668, saving model to cyc_pred_earlystop_redplat_check.h5\n",
      "Epoch 21/40\n",
      "362/362 [==============================] - 16s 45ms/step - loss: 0.0187 - accuracy: 0.9936 - top2_acc: 1.0000 - val_loss: 0.0812 - val_accuracy: 0.9765 - val_top2_acc: 0.9972\n",
      "\n",
      "Epoch 00021: val_loss did not improve from 0.06668\n",
      "Epoch 22/40\n",
      "362/362 [==============================] - 16s 45ms/step - loss: 0.0153 - accuracy: 0.9944 - top2_acc: 0.9998 - val_loss: 0.0751 - val_accuracy: 0.9790 - val_top2_acc: 0.9989\n",
      "\n",
      "Epoch 00022: val_loss did not improve from 0.06668\n",
      "Epoch 23/40\n",
      "362/362 [==============================] - 16s 45ms/step - loss: 0.0146 - accuracy: 0.9952 - top2_acc: 1.0000 - val_loss: 0.0693 - val_accuracy: 0.9790 - val_top2_acc: 0.9979\n",
      "\n",
      "Epoch 00023: val_loss did not improve from 0.06668\n",
      "Epoch 24/40\n",
      "362/362 [==============================] - 16s 45ms/step - loss: 0.0179 - accuracy: 0.9945 - top2_acc: 1.0000 - val_loss: 0.0743 - val_accuracy: 0.9765 - val_top2_acc: 0.9986\n",
      "\n",
      "Epoch 00024: val_loss did not improve from 0.06668\n",
      "Epoch 25/40\n",
      "362/362 [==============================] - 16s 45ms/step - loss: 0.0159 - accuracy: 0.9948 - top2_acc: 1.0000 - val_loss: 0.0847 - val_accuracy: 0.9762 - val_top2_acc: 0.9979\n",
      "\n",
      "Epoch 00025: val_loss did not improve from 0.06668\n",
      "Epoch 26/40\n",
      "362/362 [==============================] - 16s 45ms/step - loss: 0.0116 - accuracy: 0.9961 - top2_acc: 1.0000 - val_loss: 0.0784 - val_accuracy: 0.9783 - val_top2_acc: 0.9968\n",
      "\n",
      "Epoch 00026: val_loss did not improve from 0.06668\n",
      "Epoch 27/40\n",
      "362/362 [==============================] - 16s 45ms/step - loss: 0.0064 - accuracy: 0.9975 - top2_acc: 1.0000 - val_loss: 0.0792 - val_accuracy: 0.9807 - val_top2_acc: 0.9982\n",
      "\n",
      "Epoch 00027: val_loss did not improve from 0.06668\n",
      "Epoch 28/40\n",
      "362/362 [==============================] - 16s 45ms/step - loss: 0.0072 - accuracy: 0.9975 - top2_acc: 1.0000 - val_loss: 0.0822 - val_accuracy: 0.9765 - val_top2_acc: 0.9979\n",
      "\n",
      "Epoch 00028: val_loss did not improve from 0.06668\n",
      "Epoch 29/40\n",
      "362/362 [==============================] - 16s 45ms/step - loss: 0.0060 - accuracy: 0.9984 - top2_acc: 1.0000 - val_loss: 0.0856 - val_accuracy: 0.9783 - val_top2_acc: 0.9986\n",
      "\n",
      "Epoch 00029: val_loss did not improve from 0.06668\n",
      "Epoch 30/40\n",
      "362/362 [==============================] - 17s 46ms/step - loss: 0.0059 - accuracy: 0.9978 - top2_acc: 1.0000 - val_loss: 0.0876 - val_accuracy: 0.9765 - val_top2_acc: 0.9982\n",
      "\n",
      "Epoch 00030: val_loss did not improve from 0.06668\n",
      "Test loss: 0.09416599571704865\n",
      "Test accuracy: 0.9735614061355591\n"
     ]
    }
   ],
   "source": [
    "import functools\n",
    "\n",
    "#Define Number of Epochs\n",
    "\n",
    "## ~~ Change Number of Epochs Here ~~\n",
    "epochs = 40\n",
    "## ~~ Change Number of Epochs Here ~~\n",
    "\n",
    "\n",
    "# Include Top-2 Accuracy Metrics \n",
    "top2_acc = functools.partial(tensorflow.keras.metrics.top_k_categorical_accuracy, k=2)\n",
    "top2_acc.__name__ = 'top2_acc'\n",
    "\n",
    "\n",
    "## ~~ Change Optimizer or Parameters Here\n",
    "# Optimizer\n",
    "# sgd = tensorflow.keras.optimizers.SGD(lr=0.001, decay=1e-6, momentum=0.9)\n",
    "opt = tensorflow.keras.optimizers.Adam(lr=0.0001, decay=1e-6)\n",
    "## ~~ Change Optimizer or Parameters Here\n",
    "\n",
    "early_stop = tensorflow.keras.callbacks.EarlyStopping(monitor='val_loss', min_delta=1e-4, patience=10, mode='auto', restore_best_weights=True)\n",
    "rdlr = tensorflow.keras.callbacks.ReduceLROnPlateau(patience=5, factor=0.5, min_lr=1e-6, monitor='val_loss', verbose=0)\n",
    "checkpointer= tensorflow.keras.callbacks.ModelCheckpoint(filepath=\"cyc_pred_earlystop_redplat_check.h5\", verbose=1, save_best_only=True)\n",
    "\n",
    "#Compile Model with Loss Function , Optimizer and Metrics\n",
    "model.compile(loss=tensorflow.keras.losses.categorical_crossentropy, \n",
    "              optimizer=opt,\n",
    "              metrics=['accuracy',top2_acc])\n",
    "\n",
    "# Train the Model \n",
    "trained_model = model.fit(train,\n",
    "                          epochs=epochs,\n",
    "                          callbacks=[early_stop,rdlr,checkpointer],\n",
    "                          verbose=1,\n",
    "                          validation_data=val)\n",
    "\n",
    "# Test Model Aganist Validation Set\n",
    "score = model.evaluate(test, verbose=0)\n",
    "print('Test loss:', score[0])\n",
    "print('Test accuracy:', score[1])"
   ]
  },
  {
   "cell_type": "markdown",
   "metadata": {},
   "source": [
    "### Visualisations"
   ]
  },
  {
   "cell_type": "code",
   "execution_count": 9,
   "metadata": {},
   "outputs": [
    {
     "data": {
      "image/png": "[encoded data removed]",
      "text/plain": [
       "<Figure size 1080x360 with 2 Axes>"
      ]
     },
     "metadata": {
      "needs_background": "light"
     },
     "output_type": "display_data"
    }
   ],
   "source": [
    "import matplotlib.pyplot as plt\n",
    "f = plt.figure(figsize=(15,5))\n",
    "ax = f.add_subplot(121)\n",
    "ax.plot(trained_model.history['accuracy'])\n",
    "ax.plot(trained_model.history['val_accuracy'])\n",
    "ax.set_title('Model Accuracy')\n",
    "ax.set_ylabel('Accuracy')\n",
    "ax.set_xlabel('Epoch')\n",
    "ax.legend(['Train', 'Val'])\n",
    "\n",
    "ax2 = f.add_subplot(122)\n",
    "ax2.plot(trained_model.history['loss'])\n",
    "ax2.plot(trained_model.history['val_loss'])\n",
    "ax2.set_title('Model Loss')\n",
    "ax2.set_ylabel('Loss')\n",
    "ax2.set_xlabel('Epoch')\n",
    "ax2.legend(['Train', 'Val'],loc= 'upper left')\n",
    "\n",
    "plt.show()"
   ]
  },
  {
   "cell_type": "code",
   "execution_count": 10,
   "metadata": {},
   "outputs": [
    {
     "data": {
      "text/plain": [
       "<AxesSubplot:>"
      ]
     },
     "execution_count": 10,
     "metadata": {},
     "output_type": "execute_result"
    },
    {
     "data": {
      "image/png": "[encoded data removed]",
      "text/plain": [
       "<Figure size 1080x1080 with 2 Axes>"
      ]
     },
     "metadata": {
      "needs_background": "light"
     },
     "output_type": "display_data"
    }
   ],
   "source": [
    "import seaborn as sn\n",
    "from sklearn.metrics import confusion_matrix\n",
    "import pandas as pd\n",
    "\n",
    "#Plotting a heatmap using the confusion matrix\n",
    "pred = model.predict(val)\n",
    "p = np.argmax(pred, axis=1)\n",
    "y_valid = np.argmax(val_labels, axis=1, out=None)\n",
    "results = confusion_matrix(y_valid, p) \n",
    "classes=['NC','TD','TC','H1','H3','H3','H4','H5']\n",
    "df_cm = pd.DataFrame(results, index = [i for i in classes], columns = [i for i in classes])\n",
    "plt.figure(figsize = (15,15))\n",
    "\n",
    "sn.heatmap(df_cm, annot=True, cmap=\"Blues\")"
   ]
  },
  {
   "cell_type": "markdown",
   "metadata": {},
   "source": [
    "Let us now save our Model and the trained Weights for Future usage :"
   ]
  },
  {
   "cell_type": "code",
   "execution_count": 11,
   "metadata": {},
   "outputs": [],
   "source": [
    "#Save Our Model \n",
    "model.save('cyc_pred_comp.h5')"
   ]
  },
  {
   "cell_type": "markdown",
   "metadata": {},
   "source": [
    "### Other Bootcamps\n",
    "The contents of this Bootcamp originates from [OpenACC GPU Bootcamp Github](https://github.com/gpuhackathons-org/gpubootcamp).  Here are some additional Bootcamp which might be of interest: \n",
    "\n",
    "- [Physics Informed Neural Network](https://github.com/gpuhackathons-org/gpubootcamp/tree/master/hpc_ai/PINN)\n",
    "\n",
    "## License\n",
    "This material is released by OpenACC-Standard.org, in collaboration with NVIDIA Corporation, under the Creative Commons Attribution 4.0 International (CC BY 4.0).\n",
    "\n",
    "[Previous Notebook](Manipulation_of_Image_Data_and_Category_Determination_using_Text_Data.ipynb)\n",
    "&emsp;&emsp;&emsp;&emsp;&emsp;\n",
    "&emsp;&emsp;&emsp;&emsp;&emsp;\n",
    "&emsp;&emsp;&emsp;&emsp;&emsp;\n",
    "&emsp;&emsp;&emsp;&emsp;&emsp;\n",
    "[1](The_Problem_Statement.ipynb)\n",
    "[2](Approach_to_the_Problem_&_Inspecting_and_Cleaning_the_Required_Data.ipynb)\n",
    "[3](Manipulation_of_Image_Data_and_Category_Determination_using_Text_Data.ipynb)\n",
    "[4](Countering_Data_Imbalance.ipynb)\n",
    "[5]\n",
    "&emsp;&emsp;&emsp;&emsp;&emsp;\n",
    "&emsp;&emsp;&emsp;&emsp;&emsp;\n",
    "&emsp;&emsp;&emsp;&emsp;&emsp;\n",
    "&emsp;&emsp;&emsp;&emsp;&emsp;\n",
    "\n",
    "&emsp;&emsp;&emsp;&emsp;&emsp;\n",
    "&emsp;&emsp;&emsp;&emsp;&emsp;\n",
    "&emsp;&emsp;&emsp;&emsp;&emsp;\n",
    "&emsp;&emsp;&emsp;&emsp;&emsp;\n",
    "&emsp;&emsp;&emsp;&emsp;&emsp;\n",
    "&emsp;&emsp;&ensp;\n",
    "[Home Page](../Start_Here.ipynb)\n"
   ]
  },
  {
   "cell_type": "code",
   "execution_count": null,
   "metadata": {},
   "outputs": [],
   "source": []
  }
 ],
 "metadata": {
  "kernelspec": {
   "display_name": "Python 3",
   "language": "python",
   "name": "python3"
  },
  "language_info": {
   "codemirror_mode": {
    "name": "ipython",
    "version": 3
   },
   "file_extension": ".py",
   "mimetype": "text/x-python",
   "name": "python",
   "nbconvert_exporter": "python",
   "pygments_lexer": "ipython3",
   "version": "3.8.5"
  }
 },
 "nbformat": 4,
 "nbformat_minor": 4
}
